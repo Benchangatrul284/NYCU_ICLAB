{
 "cells": [
  {
   "cell_type": "code",
   "execution_count": null,
   "metadata": {},
   "outputs": [],
   "source": [
    "import os\n",
    "import numpy as np"
   ]
  },
  {
   "cell_type": "code",
   "execution_count": null,
   "metadata": {},
   "outputs": [],
   "source": [
    "NUM_PATTERN = 10000\n",
    "root_dir = 'lab7_pattern'\n",
    "np.random.seed(0)"
   ]
  },
  {
   "cell_type": "code",
   "execution_count": null,
   "metadata": {},
   "outputs": [],
   "source": [
    "if root_dir not in os.listdir():\n",
    "        os.mkdir(root_dir)\n",
    "\n",
    "in_row_file_path = os.path.join(root_dir, 'in_row.txt')\n",
    "in_kernel_file_path = os.path.join(root_dir, 'in_kernel.txt')\n",
    "output_file_path = os.path.join(root_dir, 'output.txt')"
   ]
  },
  {
   "cell_type": "code",
   "execution_count": null,
   "metadata": {},
   "outputs": [],
   "source": [
    "in_row_file = open(in_row_file_path, 'w')\n",
    "in_kernel_file = open(in_kernel_file_path, 'w')\n",
    "output_file = open(output_file_path, 'w')\n",
    "\n",
    "for i in range(NUM_PATTERN):\n",
    "    in_row_file.write(f'{i}\\n')\n",
    "    in_kernel_file.write(f'{i}\\n')\n",
    "    output_file.write(f'{i}\\n')\n",
    "    image = np.random.randint(0, 8, size=(6, 6))\n",
    "    kernel = np.random.randint(0, 8, size=(6, 2, 2))\n",
    "    output = np.zeros((6,5,5), dtype=int)\n",
    "    \n",
    "    # write the image to in_row.txt\n",
    "    for row in range(6):\n",
    "        in_row_file.write('\\n'.join(map(str, image[row][::-1])))\n",
    "        in_row_file.write('\\n')\n",
    "    # write the kernel to in_kernel.txt\n",
    "    for k in range(6):\n",
    "        in_kernel_file.write('\\n'.join(map(str, kernel[k].flatten()[::-1])))\n",
    "        in_kernel_file.write('\\n')\n",
    "    # compute the output = image convolution with kernel\n",
    "    for k in range(6):\n",
    "        for row in range(5):\n",
    "            for col in range(5):\n",
    "                output[k][row][col] = np.sum(image[row:row+2, col:col+2] * kernel[k])\n",
    "        \n",
    "    print(f'Pattern {i}:')\n",
    "    print('Image:')\n",
    "    print(image)\n",
    "    print('kernel:')\n",
    "    print(kernel)\n",
    "    print('Output:')\n",
    "    print(output)\n",
    "    \n",
    "    # write the output to output.txt\n",
    "    for k in range(6):\n",
    "        for row in range(5):\n",
    "            for col in range(5):\n",
    "                output_file.write(f'{output[k][row][col]}\\n')\n",
    "\n",
    "in_row_file.close()\n",
    "in_kernel_file.close()\n",
    "output_file.close()"
   ]
  }
 ],
 "metadata": {
  "kernelspec": {
   "display_name": "torch",
   "language": "python",
   "name": "python3"
  },
  "language_info": {
   "codemirror_mode": {
    "name": "ipython",
    "version": 3
   },
   "file_extension": ".py",
   "mimetype": "text/x-python",
   "name": "python",
   "nbconvert_exporter": "python",
   "pygments_lexer": "ipython3",
   "version": "3.9.19"
  }
 },
 "nbformat": 4,
 "nbformat_minor": 2
}
